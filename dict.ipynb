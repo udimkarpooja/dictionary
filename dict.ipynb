{
 "cells": [
  {
   "cell_type": "code",
   "execution_count": 1,
   "id": "16b4aa51-2cb8-4005-90b3-6289e4b15d40",
   "metadata": {},
   "outputs": [],
   "source": [
    "d = {}"
   ]
  },
  {
   "cell_type": "code",
   "execution_count": 2,
   "id": "822b13b8-de87-4755-b71b-84096dd2f64b",
   "metadata": {},
   "outputs": [
    {
     "data": {
      "text/plain": [
       "dict"
      ]
     },
     "execution_count": 2,
     "metadata": {},
     "output_type": "execute_result"
    }
   ],
   "source": [
    "type(d)"
   ]
  },
  {
   "cell_type": "code",
   "execution_count": 3,
   "id": "88fbbfd7-6e4a-4eb5-a902-e353e3c0761c",
   "metadata": {},
   "outputs": [],
   "source": [
    "d1 = {'key' : \"pooja\"}"
   ]
  },
  {
   "cell_type": "code",
   "execution_count": 4,
   "id": "6292dc65-1e48-4417-a8a4-35e725bd761c",
   "metadata": {},
   "outputs": [
    {
     "data": {
      "text/plain": [
       "{'key': 'pooja'}"
      ]
     },
     "execution_count": 4,
     "metadata": {},
     "output_type": "execute_result"
    }
   ],
   "source": [
    "d1"
   ]
  },
  {
   "cell_type": "code",
   "execution_count": 5,
   "id": "78c767f3-4a98-4ba5-81cf-9d115c0a3b48",
   "metadata": {},
   "outputs": [],
   "source": [
    "d2 = {'name' : \"pooja\" , \"email\" : \"pooja@gmail.com\" , \"number\" : 123654789}"
   ]
  },
  {
   "cell_type": "code",
   "execution_count": 6,
   "id": "96c39eac-f010-4315-8544-ba452122a504",
   "metadata": {},
   "outputs": [
    {
     "data": {
      "text/plain": [
       "{'name': 'pooja', 'email': 'pooja@gmail.com', 'number': 123654789}"
      ]
     },
     "execution_count": 6,
     "metadata": {},
     "output_type": "execute_result"
    }
   ],
   "source": [
    "d2"
   ]
  },
  {
   "cell_type": "code",
   "execution_count": 7,
   "id": "9f8f2c23-ba81-463d-9616-b67545814d81",
   "metadata": {},
   "outputs": [],
   "source": [
    "d3 = {123 : \"pooja\" , \"pkdnjdf\": \"456\" , True : 123654}"
   ]
  },
  {
   "cell_type": "code",
   "execution_count": 8,
   "id": "4ffda21c-636f-41aa-b5d2-08f90d8d3cc7",
   "metadata": {},
   "outputs": [
    {
     "data": {
      "text/plain": [
       "{123: 'pooja', 'pkdnjdf': '456', True: 123654}"
      ]
     },
     "execution_count": 8,
     "metadata": {},
     "output_type": "execute_result"
    }
   ],
   "source": [
    "d3"
   ]
  },
  {
   "cell_type": "code",
   "execution_count": 9,
   "id": "e279da69-477c-44e2-9bbe-ba7449313d30",
   "metadata": {},
   "outputs": [
    {
     "data": {
      "text/plain": [
       "'pooja'"
      ]
     },
     "execution_count": 9,
     "metadata": {},
     "output_type": "execute_result"
    }
   ],
   "source": [
    "d3[123]"
   ]
  },
  {
   "cell_type": "code",
   "execution_count": 10,
   "id": "bb66c29d-dac4-4615-a65c-eaab89fbb771",
   "metadata": {},
   "outputs": [
    {
     "data": {
      "text/plain": [
       "123654"
      ]
     },
     "execution_count": 10,
     "metadata": {},
     "output_type": "execute_result"
    }
   ],
   "source": [
    "d3[True]"
   ]
  },
  {
   "cell_type": "code",
   "execution_count": 11,
   "id": "7e489443-efd1-4981-be25-fb1dff2bbf11",
   "metadata": {},
   "outputs": [
    {
     "data": {
      "text/plain": [
       "123654"
      ]
     },
     "execution_count": 11,
     "metadata": {},
     "output_type": "execute_result"
    }
   ],
   "source": [
    "d3[1]"
   ]
  },
  {
   "cell_type": "code",
   "execution_count": 12,
   "id": "75427f1a-91f1-4dea-8376-762f66bcd2b5",
   "metadata": {},
   "outputs": [],
   "source": [
    "d4 = {\"name\" : \"sudh\" , \"main_id\": \"sudh@gamil.com\" , \"name\" : \"pooja\"}"
   ]
  },
  {
   "cell_type": "code",
   "execution_count": 13,
   "id": "b12ecd16-e595-424b-a7e6-d163659612e1",
   "metadata": {},
   "outputs": [
    {
     "data": {
      "text/plain": [
       "'pooja'"
      ]
     },
     "execution_count": 13,
     "metadata": {},
     "output_type": "execute_result"
    }
   ],
   "source": [
    "d4[\"name\"]"
   ]
  },
  {
   "cell_type": "code",
   "execution_count": 14,
   "id": "5f2918ea-152e-43cd-9ec9-bec8b671f394",
   "metadata": {},
   "outputs": [],
   "source": [
    "d5 = {\"company\" : \"pwskills\" , \"course\" : [\"web dev\" , \"data science\" ]}"
   ]
  },
  {
   "cell_type": "code",
   "execution_count": 15,
   "id": "9ed4e04c-dfd3-4e3b-974e-3a9077128d4e",
   "metadata": {},
   "outputs": [
    {
     "data": {
      "text/plain": [
       "'data science'"
      ]
     },
     "execution_count": 15,
     "metadata": {},
     "output_type": "execute_result"
    }
   ],
   "source": [
    "d5['course'][1]"
   ]
  },
  {
   "cell_type": "code",
   "execution_count": 16,
   "id": "b0ffb4c7-381d-4b68-9136-07c2f2490614",
   "metadata": {},
   "outputs": [],
   "source": [
    "d6 = {\"number\" : [2,36,5,2,4,8,96] , \"assignment\" : (1,2,3,4,5,6) , \"launch_date\" : (28,52,26) , \"class_time\" : {\"web_dev\" : 5 , \"data_science\" : 6 , \"java\" : 8}}"
   ]
  },
  {
   "cell_type": "code",
   "execution_count": 17,
   "id": "39566a30-a78a-4581-9078-ea998e0381ca",
   "metadata": {},
   "outputs": [
    {
     "data": {
      "text/plain": [
       "{'number': [2, 36, 5, 2, 4, 8, 96],\n",
       " 'assignment': (1, 2, 3, 4, 5, 6),\n",
       " 'launch_date': (28, 52, 26),\n",
       " 'class_time': {'web_dev': 5, 'data_science': 6, 'java': 8}}"
      ]
     },
     "execution_count": 17,
     "metadata": {},
     "output_type": "execute_result"
    }
   ],
   "source": [
    "d6"
   ]
  },
  {
   "cell_type": "code",
   "execution_count": 18,
   "id": "054ede12-bec7-4b46-8d59-91152ec1e053",
   "metadata": {},
   "outputs": [
    {
     "data": {
      "text/plain": [
       "6"
      ]
     },
     "execution_count": 18,
     "metadata": {},
     "output_type": "execute_result"
    }
   ],
   "source": [
    "d6[\"class_time\"][\"data_science\"]"
   ]
  },
  {
   "cell_type": "code",
   "execution_count": 19,
   "id": "e94b8041-ad84-442a-8e4a-9c3b20df613e",
   "metadata": {},
   "outputs": [],
   "source": [
    "d6['mentor'] = [\"sudhanshu\" , \"krish\" , \"anurag\"]"
   ]
  },
  {
   "cell_type": "code",
   "execution_count": 20,
   "id": "da081b7e-1943-458a-8eb9-1df364db8c66",
   "metadata": {},
   "outputs": [
    {
     "data": {
      "text/plain": [
       "{'number': [2, 36, 5, 2, 4, 8, 96],\n",
       " 'assignment': (1, 2, 3, 4, 5, 6),\n",
       " 'launch_date': (28, 52, 26),\n",
       " 'class_time': {'web_dev': 5, 'data_science': 6, 'java': 8},\n",
       " 'mentor': ['sudhanshu', 'krish', 'anurag']}"
      ]
     },
     "execution_count": 20,
     "metadata": {},
     "output_type": "execute_result"
    }
   ],
   "source": [
    "d6"
   ]
  },
  {
   "cell_type": "code",
   "execution_count": 21,
   "id": "7f333f91-a6e8-4cb0-9fe7-b6336cd442a2",
   "metadata": {},
   "outputs": [],
   "source": [
    "del d6['number']"
   ]
  },
  {
   "cell_type": "code",
   "execution_count": 22,
   "id": "5759b072-492f-47d8-8580-b5ee6321ca60",
   "metadata": {},
   "outputs": [
    {
     "data": {
      "text/plain": [
       "{'assignment': (1, 2, 3, 4, 5, 6),\n",
       " 'launch_date': (28, 52, 26),\n",
       " 'class_time': {'web_dev': 5, 'data_science': 6, 'java': 8},\n",
       " 'mentor': ['sudhanshu', 'krish', 'anurag']}"
      ]
     },
     "execution_count": 22,
     "metadata": {},
     "output_type": "execute_result"
    }
   ],
   "source": [
    "d6"
   ]
  },
  {
   "cell_type": "code",
   "execution_count": 23,
   "id": "60aab0b0-3dab-4589-974d-30a004137a50",
   "metadata": {},
   "outputs": [
    {
     "data": {
      "text/plain": [
       "dict_keys(['assignment', 'launch_date', 'class_time', 'mentor'])"
      ]
     },
     "execution_count": 23,
     "metadata": {},
     "output_type": "execute_result"
    }
   ],
   "source": [
    "d6.keys()"
   ]
  },
  {
   "cell_type": "code",
   "execution_count": 24,
   "id": "6fac2877-0d88-4dd5-ba91-7f405006b861",
   "metadata": {},
   "outputs": [
    {
     "data": {
      "text/plain": [
       "[(1, 2, 3, 4, 5, 6),\n",
       " (28, 52, 26),\n",
       " {'web_dev': 5, 'data_science': 6, 'java': 8},\n",
       " ['sudhanshu', 'krish', 'anurag']]"
      ]
     },
     "execution_count": 24,
     "metadata": {},
     "output_type": "execute_result"
    }
   ],
   "source": [
    "list(d6.values())"
   ]
  },
  {
   "cell_type": "code",
   "execution_count": 25,
   "id": "7a1849b4-a93b-474d-95e5-25ad0e3edcab",
   "metadata": {},
   "outputs": [
    {
     "data": {
      "text/plain": [
       "[('assignment', (1, 2, 3, 4, 5, 6)),\n",
       " ('launch_date', (28, 52, 26)),\n",
       " ('class_time', {'web_dev': 5, 'data_science': 6, 'java': 8}),\n",
       " ('mentor', ['sudhanshu', 'krish', 'anurag'])]"
      ]
     },
     "execution_count": 25,
     "metadata": {},
     "output_type": "execute_result"
    }
   ],
   "source": [
    "list(d6.items())"
   ]
  },
  {
   "cell_type": "code",
   "execution_count": 26,
   "id": "51218f2d-a800-4b31-8d75-fb9e74d31fee",
   "metadata": {},
   "outputs": [
    {
     "data": {
      "text/plain": [
       "(1, 2, 3, 4, 5, 6)"
      ]
     },
     "execution_count": 26,
     "metadata": {},
     "output_type": "execute_result"
    }
   ],
   "source": [
    "d6.pop(\"assignment\")"
   ]
  },
  {
   "cell_type": "code",
   "execution_count": 27,
   "id": "018f1b00-94fb-494c-8cb0-61f8c7bf3cab",
   "metadata": {},
   "outputs": [
    {
     "data": {
      "text/plain": [
       "{'launch_date': (28, 52, 26),\n",
       " 'class_time': {'web_dev': 5, 'data_science': 6, 'java': 8},\n",
       " 'mentor': ['sudhanshu', 'krish', 'anurag']}"
      ]
     },
     "execution_count": 27,
     "metadata": {},
     "output_type": "execute_result"
    }
   ],
   "source": [
    "d6"
   ]
  },
  {
   "cell_type": "markdown",
   "id": "13e08735-e4c4-48ca-83cd-972dd30a58f0",
   "metadata": {},
   "source": [
    "decision making statment"
   ]
  },
  {
   "cell_type": "code",
   "execution_count": 28,
   "id": "24e83c93-5af0-4e75-b8d2-5081f508e97b",
   "metadata": {},
   "outputs": [
    {
     "name": "stdin",
     "output_type": "stream",
     "text": [
      "enter your marks 80\n"
     ]
    },
    {
     "name": "stdout",
     "output_type": "stream",
     "text": [
      "you will be a part of A0 batch\n"
     ]
    }
   ],
   "source": [
    "marks = int(input(\"enter your marks\"))\n",
    "if (marks >= 80) :\n",
    "    print(\"you will be a part of A0 batch\")\n",
    "elif marks >= 60 and marks < 80:\n",
    "    print(\"you will be a part of a1 batch\")\n",
    "elif marks >= 40 and marks < 60 :\n",
    "    print(\"you will be a part of a2 batch\")\n",
    "else :\n",
    "    print(\"you wll be a part of a3 batch\")\n",
    "    \n",
    "    "
   ]
  },
  {
   "cell_type": "code",
   "execution_count": 29,
   "id": "80c777a6-7285-433e-98fb-ad4e0109d3b5",
   "metadata": {},
   "outputs": [
    {
     "name": "stdin",
     "output_type": "stream",
     "text": [
      "enter price : 2005\n"
     ]
    },
    {
     "name": "stdout",
     "output_type": "stream",
     "text": [
      "i will not purchase\n"
     ]
    }
   ],
   "source": [
    "price = int(input(\"enter price :\"))\n",
    "if price > 1000:\n",
    "    print(\"i will not purchase\")\n",
    "else :\n",
    "    print(\"i will purchase\")"
   ]
  },
  {
   "cell_type": "code",
   "execution_count": 37,
   "id": "0bda9823-6dd1-4bfa-855d-46aa2d5d7b9f",
   "metadata": {},
   "outputs": [
    {
     "name": "stdin",
     "output_type": "stream",
     "text": [
      "enter price : 1501\n"
     ]
    },
    {
     "name": "stdout",
     "output_type": "stream",
     "text": [
      "i will not purchase\n",
      "its ok\n"
     ]
    }
   ],
   "source": [
    "price = int(input(\"enter price :\"))\n",
    "if price > 1000:\n",
    "    print(\"i will not purchase\")\n",
    "    if price > 5000 :\n",
    "        print(\"this is too much\")\n",
    "    elif (price < 2000): \n",
    "        print(\"its ok\")"
   ]
  },
  {
   "cell_type": "code",
   "execution_count": 31,
   "id": "19cd05e1-4cec-43e1-8335-66608244a3f5",
   "metadata": {},
   "outputs": [],
   "source": [
    "l = [1 ,2,3,4,5,6,7,8]"
   ]
  },
  {
   "cell_type": "code",
   "execution_count": 32,
   "id": "284a2166-c91d-4ae2-aaaf-5648672ddcba",
   "metadata": {},
   "outputs": [],
   "source": [
    "l1 = []\n",
    "for i in l :\n",
    "    l1.append(i+1)"
   ]
  },
  {
   "cell_type": "code",
   "execution_count": 33,
   "id": "e26df52d-071a-4fca-a44b-9519a3f25b42",
   "metadata": {},
   "outputs": [
    {
     "data": {
      "text/plain": [
       "[2, 3, 4, 5, 6, 7, 8, 9]"
      ]
     },
     "execution_count": 33,
     "metadata": {},
     "output_type": "execute_result"
    }
   ],
   "source": [
    "l1"
   ]
  },
  {
   "cell_type": "code",
   "execution_count": 34,
   "id": "b6f06489-e688-4c62-8fad-9b614e9eef0d",
   "metadata": {},
   "outputs": [],
   "source": [
    "l = [\"sudh \" , \"kumar\" , \"pwskills\" , \"course\"]\n",
    "l2 = []\n",
    "\n",
    "for i in l:\n",
    "    l2.append(i.upper())"
   ]
  },
  {
   "cell_type": "code",
   "execution_count": 35,
   "id": "9dc2e946-16e4-4abd-8632-183c2d6c4f10",
   "metadata": {},
   "outputs": [
    {
     "data": {
      "text/plain": [
       "['SUDH ', 'KUMAR', 'PWSKILLS', 'COURSE']"
      ]
     },
     "execution_count": 35,
     "metadata": {},
     "output_type": "execute_result"
    }
   ],
   "source": [
    "l2"
   ]
  },
  {
   "cell_type": "code",
   "execution_count": 36,
   "id": "1837b7c1-efb2-4667-a999-817e2bf81873",
   "metadata": {},
   "outputs": [],
   "source": [
    "l3 = [1, 2, 3, 4, 5, \"sudh\" , \"kumar\" , 231 , 56.32 , \"abc\" ]"
   ]
  },
  {
   "cell_type": "code",
   "execution_count": null,
   "id": "bab6730e-7424-46a6-a1f0-10584f4f7c07",
   "metadata": {},
   "outputs": [],
   "source": [
    "l4 = []\n",
    "l5 = []\n",
    "\n",
    "for i in l3:\n",
    "    if (type(i) == int or type(i) == float):\n",
    "        l3.append(i)\n",
    "    else :\n",
    "        l5.append(i)"
   ]
  },
  {
   "cell_type": "code",
   "execution_count": null,
   "id": "e395231b-e3d7-45c0-9eea-53d5a3982495",
   "metadata": {},
   "outputs": [],
   "source": [
    "l4"
   ]
  },
  {
   "cell_type": "code",
   "execution_count": null,
   "id": "ed5736af-abec-4089-863a-aed3ae576217",
   "metadata": {},
   "outputs": [],
   "source": [
    "l5"
   ]
  },
  {
   "cell_type": "code",
   "execution_count": null,
   "id": "c08f7942-a611-4be3-935b-1d2eb974153f",
   "metadata": {},
   "outputs": [],
   "source": []
  }
 ],
 "metadata": {
  "kernelspec": {
   "display_name": "Python 3 (ipykernel)",
   "language": "python",
   "name": "python3"
  },
  "language_info": {
   "codemirror_mode": {
    "name": "ipython",
    "version": 3
   },
   "file_extension": ".py",
   "mimetype": "text/x-python",
   "name": "python",
   "nbconvert_exporter": "python",
   "pygments_lexer": "ipython3",
   "version": "3.10.8"
  }
 },
 "nbformat": 4,
 "nbformat_minor": 5
}
